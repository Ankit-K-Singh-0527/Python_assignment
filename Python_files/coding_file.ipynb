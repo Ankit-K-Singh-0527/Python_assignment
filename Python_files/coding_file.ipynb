{
  "nbformat": 4,
  "nbformat_minor": 0,
  "metadata": {
    "colab": {
      "provenance": []
    },
    "kernelspec": {
      "name": "python3",
      "display_name": "Python 3"
    },
    "language_info": {
      "name": "python"
    }
  },
  "cells": [
    {
      "cell_type": "code",
      "execution_count": null,
      "metadata": {
        "colab": {
          "base_uri": "https://localhost:8080/"
        },
        "id": "JYgiyW9yfXX2",
        "outputId": "bc0be743-d585-4c9d-9cfa-809935a9f286"
      },
      "outputs": [
        {
          "output_type": "stream",
          "name": "stdout",
          "text": [
            "Hello, World!\n"
          ]
        }
      ],
      "source": [
        " # 1.How can you open a file for writing in Python and write a string to it?\n",
        "\n",
        "\n",
        "with open('example.txt', 'w') as file:\n",
        "    # Write a string to the file\n",
        "    file.write('Hello, World!')\n",
        "\n",
        "with open('example.txt', 'r') as file:\n",
        "    content = file.read()\n",
        "    print(content)\n",
        "\n"
      ]
    },
    {
      "cell_type": "code",
      "source": [
        "# 2. Write a Python program to read the contents of a file and print each line\n",
        "\n",
        "# Open the file in read mode\n",
        "with open('example.txt', 'r') as file:\n",
        "    # Iterate through each line in the file\n",
        "    for line in file:\n",
        "        # Print the line\n",
        "        print(line, end='')\n",
        "\n"
      ],
      "metadata": {
        "colab": {
          "base_uri": "https://localhost:8080/"
        },
        "id": "uvUMxOLOgXA4",
        "outputId": "ea564fdc-c154-44b9-c0f0-fffb82d1c108"
      },
      "execution_count": null,
      "outputs": [
        {
          "output_type": "stream",
          "name": "stdout",
          "text": [
            "Hello, World!"
          ]
        }
      ]
    },
    {
      "cell_type": "code",
      "source": [
        "# 3. How would you handle a case where the file doesn't exist while trying to open it for reading\n",
        "\n",
        "try:\n",
        "    # Attempt to open the file in read mode\n",
        "    with open('exampl.txt', 'r') as file:\n",
        "        # Read and print the file content\n",
        "        content = file.read()\n",
        "        print(content)\n",
        "except FileNotFoundError:\n",
        "    # Handle the case where the file doesn't exist\n",
        "    print(\"The file does not exist.\")\n"
      ],
      "metadata": {
        "colab": {
          "base_uri": "https://localhost:8080/"
        },
        "id": "-XJ7Dn14gowa",
        "outputId": "c45080e7-49dc-41dd-e35d-d8e6fff54c9a"
      },
      "execution_count": null,
      "outputs": [
        {
          "output_type": "stream",
          "name": "stdout",
          "text": [
            "The file does not exist.\n"
          ]
        }
      ]
    },
    {
      "cell_type": "code",
      "source": [
        "#4.  Write a Python script that reads from one file and writes its content to another file\n",
        "\n",
        "# Open the source file in read mode\n",
        "with open('example.txt', 'r') as source_file:\n",
        "    # Read the content of the source file\n",
        "    content = source_file.read()\n",
        "\n",
        "# Open the destination file in write mode\n",
        "with open('destination_file.txt', 'w') as destination_file:\n",
        "    # Write the content to the destination file\n",
        "    destination_file.write(content)\n",
        "\n",
        "print(\"Content has been copied from source_file.txt to destination_file.txt\")\n"
      ],
      "metadata": {
        "colab": {
          "base_uri": "https://localhost:8080/"
        },
        "id": "H99rS1Vdg8A1",
        "outputId": "aa527f3c-20b9-4d9c-ae29-035649e4087a"
      },
      "execution_count": null,
      "outputs": [
        {
          "output_type": "stream",
          "name": "stdout",
          "text": [
            "Content has been copied from source_file.txt to destination_file.txt\n"
          ]
        }
      ]
    },
    {
      "cell_type": "code",
      "source": [
        "#5.  How would you catch and handle division by zero error in Python\n",
        "\n",
        "def divide_numbers(a, b):\n",
        "    try:\n",
        "\n",
        "        result = a / b\n",
        "    except ZeroDivisionError:\n",
        "\n",
        "        print(\"Error: Division by zero is not allowed.\")\n",
        "        result = None\n",
        "    return result\n",
        "\n",
        "\n",
        "num1 = 10\n",
        "num2 = 0\n",
        "\n",
        "# This will trigger the ZeroDivisionError and handle it\n",
        "result = divide_numbers(num1, num2)\n",
        "if result is not None:\n",
        "    print(f\"The result is: {result}\")\n",
        "else:\n",
        "    print(\"The division operation failed.\")\n"
      ],
      "metadata": {
        "colab": {
          "base_uri": "https://localhost:8080/"
        },
        "id": "ryzna0_ahXQf",
        "outputId": "7a0dcbb6-30a1-421d-bf6a-b51228dad336"
      },
      "execution_count": null,
      "outputs": [
        {
          "output_type": "stream",
          "name": "stdout",
          "text": [
            "Error: Division by zero is not allowed.\n",
            "The division operation failed.\n"
          ]
        }
      ]
    },
    {
      "cell_type": "code",
      "source": [
        "#6.  Write a Python program that logs an error message to a log file when a division by zero exception occurs\n",
        "\n",
        "\n",
        "import logging\n",
        "\n",
        "logging.basicConfig(filename='error.log', level=logging.ERROR, format='%(asctime)s - %(levelname)s - %(message)s')\n",
        "\n",
        "def divide_numbers(a, b):\n",
        "    try:\n",
        "        result = a / b\n",
        "    except ZeroDivisionError:\n",
        "        logging.error(\"Error: Division by zero is not allowed.\")\n",
        "        return None\n",
        "    return result\n",
        "\n",
        "num1 = 10\n",
        "num2 = 0\n",
        "\n",
        "result = divide_numbers(num1, num2)\n",
        "if result is not None:\n",
        "    print(f\"The result is: {result}\")\n",
        "else:\n",
        "    print(\"The division operation failed. Check the log file for details.\")\n"
      ],
      "metadata": {
        "colab": {
          "base_uri": "https://localhost:8080/"
        },
        "id": "4-9ZzSsJiuCj",
        "outputId": "4d675618-f3eb-4999-9505-683a0ad5a152"
      },
      "execution_count": null,
      "outputs": [
        {
          "output_type": "stream",
          "name": "stderr",
          "text": [
            "ERROR:root:Error: Division by zero is not allowed.\n"
          ]
        },
        {
          "output_type": "stream",
          "name": "stdout",
          "text": [
            "The division operation failed. Check the log file for details.\n"
          ]
        }
      ]
    },
    {
      "cell_type": "code",
      "source": [
        "#7.  How do you log information at different levels (INFO, ERROR, WARNING) in Python using the logging module\n",
        "\n",
        "import logging\n",
        "\n",
        "\n",
        "logging.basicConfig(filename='app.log', level=logging.DEBUG, format='%(asctime)s - %(levelname)s - %(message)s')\n",
        "\n",
        "\n",
        "logging.debug('This is a DEBUG message')\n",
        "logging.info('This is an INFO message')\n",
        "logging.warning('This is a WARNING message')\n",
        "logging.error('This is an ERROR message')\n",
        "logging.critical('This is a CRITICAL message')\n"
      ],
      "metadata": {
        "colab": {
          "base_uri": "https://localhost:8080/"
        },
        "id": "VdbqiryMi-0N",
        "outputId": "fb717484-de0e-4ae8-e928-9af749c5e4d5"
      },
      "execution_count": null,
      "outputs": [
        {
          "output_type": "stream",
          "name": "stderr",
          "text": [
            "WARNING:root:This is a WARNING message\n",
            "ERROR:root:This is an ERROR message\n",
            "CRITICAL:root:This is a CRITICAL message\n"
          ]
        }
      ]
    },
    {
      "cell_type": "code",
      "source": [
        "#8.   Write a program to handle a file opening error using exception handling\n",
        "\n",
        "try:\n",
        "\n",
        "    with open('non_existent_file.txt', 'r') as file:\n",
        "        content = file.read()\n",
        "except FileNotFoundError:\n",
        "\n",
        "    print(\"Error: The file does not exist.\")\n"
      ],
      "metadata": {
        "colab": {
          "base_uri": "https://localhost:8080/"
        },
        "id": "9IsWKlGTje57",
        "outputId": "7d4f802a-d9e0-4582-9760-bb08fda5359d"
      },
      "execution_count": null,
      "outputs": [
        {
          "output_type": "stream",
          "name": "stdout",
          "text": [
            "Error: The file does not exist.\n"
          ]
        }
      ]
    },
    {
      "cell_type": "code",
      "source": [
        "#9.  How can you read a file line by line and store its content in a list in Python\n",
        "\n",
        "with open('example.txt', 'r') as file:\n",
        "    lines = [line.strip() for line in file]\n",
        "\n",
        "print(lines)\n",
        "\n"
      ],
      "metadata": {
        "colab": {
          "base_uri": "https://localhost:8080/"
        },
        "id": "EHiV6Z98jso5",
        "outputId": "8d91d938-319c-458f-f6d5-926822af6e81"
      },
      "execution_count": null,
      "outputs": [
        {
          "output_type": "stream",
          "name": "stdout",
          "text": [
            "['Hello, World!']\n"
          ]
        }
      ]
    },
    {
      "cell_type": "code",
      "source": [
        "#10.  How can you append data to an existing file in Python\n",
        "\n",
        "\n",
        "with open('example.txt', 'a') as file:\n",
        "\n",
        "    file.write('\\nAppended line.')\n",
        "\n",
        "print(\"Data has been appended to the file.\")\n"
      ],
      "metadata": {
        "colab": {
          "base_uri": "https://localhost:8080/"
        },
        "id": "UI45mDvykPYM",
        "outputId": "8ea4c0a2-298a-4ce4-ffc4-2b161c2753fe"
      },
      "execution_count": null,
      "outputs": [
        {
          "output_type": "stream",
          "name": "stdout",
          "text": [
            "Data has been appended to the file.\n"
          ]
        }
      ]
    },
    {
      "cell_type": "code",
      "source": [
        "#11.  Write a Python program that uses a try-except block to handle an error when attempting to access a\n",
        "#dictionary key that doesn't exist\n",
        "\n",
        "\n",
        "my_dict = {'a': 1, 'b': 2, 'c': 3}\n",
        "\n",
        "try:\n",
        "    value = my_dict['d']\n",
        "except KeyError:\n",
        "    print(\"Error: The key 'd' does not exist in the dictionary.\")\n"
      ],
      "metadata": {
        "colab": {
          "base_uri": "https://localhost:8080/"
        },
        "id": "FEFP4cT8kf9H",
        "outputId": "6dc93eab-b18e-4346-f444-44cbf84b095a"
      },
      "execution_count": null,
      "outputs": [
        {
          "output_type": "stream",
          "name": "stdout",
          "text": [
            "Error: The key 'd' does not exist in the dictionary.\n"
          ]
        }
      ]
    },
    {
      "cell_type": "code",
      "source": [
        "#12.  Write a program that demonstrates using multiple except blocks to handle different types of exceptions\n",
        "\n",
        "def divide_numbers(a, b):\n",
        "    try:\n",
        "        result = a / b\n",
        "        print(f\"The result is: {result}\")\n",
        "    except ZeroDivisionError:\n",
        "        print(\"Error: Division by zero is not allowed.\")\n",
        "    except TypeError:\n",
        "        print(\"Error: Invalid data type for division.\")\n",
        "    except Exception as e:\n",
        "        print(f\"An unexpected error occurred: {e}\")\n",
        "\n",
        "\n",
        "divide_numbers(10, 2)\n",
        "divide_numbers(10, 0)\n",
        "divide_numbers(10, 'a')\n",
        "divide_numbers('10', 2)\n"
      ],
      "metadata": {
        "colab": {
          "base_uri": "https://localhost:8080/"
        },
        "id": "1DaQzkJakwGd",
        "outputId": "9e3d082f-a52e-4049-8f0c-d85a83103b9c"
      },
      "execution_count": null,
      "outputs": [
        {
          "output_type": "stream",
          "name": "stdout",
          "text": [
            "The result is: 5.0\n",
            "Error: Division by zero is not allowed.\n",
            "Error: Invalid data type for division.\n",
            "Error: Invalid data type for division.\n"
          ]
        }
      ]
    },
    {
      "cell_type": "code",
      "source": [
        "#13.  How would you check if a file exists before attempting to read it in Python\n",
        "\n",
        "\n",
        "import os\n",
        "\n",
        "if os.path.exists('example_file.txt'):\n",
        "    with open('example_file.txt', 'r') as file:\n",
        "        content = file.read()\n",
        "        print(content)\n",
        "else:\n",
        "    print(\"The file does not exist.\")\n"
      ],
      "metadata": {
        "colab": {
          "base_uri": "https://localhost:8080/"
        },
        "id": "EFtXL4QOlGsZ",
        "outputId": "b2826ab3-5fe2-471d-e94f-27352b38d939"
      },
      "execution_count": null,
      "outputs": [
        {
          "output_type": "stream",
          "name": "stdout",
          "text": [
            "The file does not exist.\n"
          ]
        }
      ]
    },
    {
      "cell_type": "code",
      "source": [
        "#14.   Write a program that uses the logging module to log both informational and error messages\n",
        "\n",
        "\n",
        "import logging\n",
        "\n",
        "logging.basicConfig(filename='app.log', level=logging.DEBUG, format='%(asctime)s - %(levelname)s - %(message)s')\n",
        "\n",
        "def divide_numbers(a, b):\n",
        "    try:\n",
        "        result = a / b\n",
        "        logging.info(f\"Successfully divided {a} by {b}. Result: {result}\")\n",
        "        return result\n",
        "    except ZeroDivisionError:\n",
        "        logging.error(\"Error: Division by zero is not allowed.\")\n",
        "        return None\n",
        "    except Exception as e:\n",
        "        logging.error(f\"An unexpected error occurred: {e}\")\n",
        "        return None\n",
        "\n",
        "num1 = 10\n",
        "num2 = 2\n",
        "divide_numbers(num1, num2)\n",
        "\n",
        "num2 = 0\n",
        "divide_numbers(num1, num2)\n",
        "\n",
        "num2 = 'a'\n",
        "divide_numbers(num1, num2)\n"
      ],
      "metadata": {
        "colab": {
          "base_uri": "https://localhost:8080/"
        },
        "id": "bnWbZ-lWlYfr",
        "outputId": "8cd3f170-4f75-46f8-9fce-2e2c8a37e5d2"
      },
      "execution_count": null,
      "outputs": [
        {
          "output_type": "stream",
          "name": "stderr",
          "text": [
            "ERROR:root:Error: Division by zero is not allowed.\n",
            "ERROR:root:An unexpected error occurred: unsupported operand type(s) for /: 'int' and 'str'\n"
          ]
        }
      ]
    },
    {
      "cell_type": "code",
      "source": [
        "#15.   Write a Python program that prints the content of a file and handles the case when the file is empty\n",
        "\n",
        "with open('example_file.txt', 'w') as file:\n",
        "    pass\n",
        "\n",
        "try:\n",
        "    with open('example_file.txt', 'r') as file:\n",
        "        content = file.read()\n",
        "        if content:\n",
        "            print(content)\n",
        "        else:\n",
        "            print(\"The file is empty.\")\n",
        "except FileNotFoundError:\n",
        "    print(\"Error: The file does not exist.\")\n"
      ],
      "metadata": {
        "colab": {
          "base_uri": "https://localhost:8080/"
        },
        "id": "Tsj79eI-loxV",
        "outputId": "1e9aae7c-7e2e-4402-f4c6-ccae8f394ce2"
      },
      "execution_count": null,
      "outputs": [
        {
          "output_type": "stream",
          "name": "stdout",
          "text": [
            "The file is empty.\n"
          ]
        }
      ]
    },
    {
      "cell_type": "code",
      "source": [
        "!pip install memory_profiler\n"
      ],
      "metadata": {
        "colab": {
          "base_uri": "https://localhost:8080/"
        },
        "id": "Fg2ZNdjAm5r1",
        "outputId": "0ff3e98a-9dd1-45fb-cb4c-5a1e2180f2f8"
      },
      "execution_count": null,
      "outputs": [
        {
          "output_type": "stream",
          "name": "stdout",
          "text": [
            "Collecting memory_profiler\n",
            "  Downloading memory_profiler-0.61.0-py3-none-any.whl.metadata (20 kB)\n",
            "Requirement already satisfied: psutil in /usr/local/lib/python3.11/dist-packages (from memory_profiler) (5.9.5)\n",
            "Downloading memory_profiler-0.61.0-py3-none-any.whl (31 kB)\n",
            "Installing collected packages: memory_profiler\n",
            "Successfully installed memory_profiler-0.61.0\n"
          ]
        }
      ]
    },
    {
      "cell_type": "code",
      "source": [
        "%load_ext memory_profiler\n"
      ],
      "metadata": {
        "id": "35ESk7HgnF6f"
      },
      "execution_count": null,
      "outputs": []
    },
    {
      "cell_type": "code",
      "source": [
        "#16.   Demonstrate how to use memory profiling to check the memory usage of a small program\n",
        "\n",
        "\n",
        "\n",
        "\n",
        "from memory_profiler import profile\n",
        "\n",
        "@profile\n",
        "def my_function():\n",
        "    # Create a list with a million elements\n",
        "    my_list = [i for i in range(1000000)]\n",
        "    return my_list\n",
        "\n",
        "if __name__ == '__main__':\n",
        "    my_function()\n"
      ],
      "metadata": {
        "colab": {
          "base_uri": "https://localhost:8080/"
        },
        "id": "7wQ9Biq9mS4L",
        "outputId": "e46b200b-e0f1-4ebe-bff1-13833679f1b2"
      },
      "execution_count": null,
      "outputs": [
        {
          "output_type": "stream",
          "name": "stdout",
          "text": [
            "ERROR: Could not find file <ipython-input-31-cb14393b4cd4>\n",
            "NOTE: %mprun can only be used on functions defined in physical files, and not in the IPython environment.\n"
          ]
        }
      ]
    },
    {
      "cell_type": "code",
      "source": [
        "#17.  Write a Python program to create and write a list of numbers to a file, one number per line\n",
        "\n",
        "numbers = [1, 2, 3, 4, 5]\n",
        "\n",
        "with open('numbers.txt', 'w') as file:\n",
        "    for number in numbers:\n",
        "        file.write(f\"{number}\\n\")\n",
        "\n",
        "print(\"Numbers have been written to 'numbers.txt'.\")\n",
        "\n"
      ],
      "metadata": {
        "colab": {
          "base_uri": "https://localhost:8080/"
        },
        "id": "uB5w8vMenTG6",
        "outputId": "201860df-6418-428c-9f35-2b3aa35a8711"
      },
      "execution_count": null,
      "outputs": [
        {
          "output_type": "stream",
          "name": "stdout",
          "text": [
            "Numbers have been written to 'numbers.txt'.\n"
          ]
        }
      ]
    },
    {
      "cell_type": "code",
      "source": [
        "#18.   How would you implement a basic logging setup that logs to a file with rotation after 1MB\n",
        "\n",
        "import logging\n",
        "from logging.handlers import RotatingFileHandler\n",
        "\n",
        "\n",
        "logger = logging.getLogger('my_logger')\n",
        "logger.setLevel(logging.DEBUG)\n",
        "\n",
        "\n",
        "handler = RotatingFileHandler('app.log', maxBytes=1_000_000, backupCount=3)\n",
        "handler.setLevel(logging.DEBUG)\n",
        "\n",
        "\n",
        "formatter = logging.Formatter('%(asctime)s - %(levelname)s - %(message)s')\n",
        "handler.setFormatter(formatter)\n",
        "\n",
        "\n",
        "logger.addHandler(handler)\n",
        "\n",
        "#10000 as 100\n",
        "for i in range(100):\n",
        "    logger.debug(f'Debug message {i}')\n",
        "    logger.info(f'Info message {i}')\n",
        "    logger.warning(f'Warning message {i}')\n",
        "    logger.error(f'Error message {i}')\n",
        "    logger.critical(f'Critical message {i}')\n",
        "\n",
        "print(\"Logging with rotation has been set up.\")\n",
        "\n"
      ],
      "metadata": {
        "colab": {
          "base_uri": "https://localhost:8080/"
        },
        "id": "JCvC5QrNnjO8",
        "outputId": "fee80cf5-c1c2-425b-8e40-0a1724bea0f6"
      },
      "execution_count": null,
      "outputs": [
        {
          "output_type": "stream",
          "name": "stderr",
          "text": [
            "DEBUG:my_logger:Debug message 0\n",
            "INFO:my_logger:Info message 0\n",
            "WARNING:my_logger:Warning message 0\n",
            "ERROR:my_logger:Error message 0\n",
            "CRITICAL:my_logger:Critical message 0\n",
            "DEBUG:my_logger:Debug message 1\n",
            "INFO:my_logger:Info message 1\n",
            "WARNING:my_logger:Warning message 1\n",
            "ERROR:my_logger:Error message 1\n",
            "CRITICAL:my_logger:Critical message 1\n",
            "DEBUG:my_logger:Debug message 2\n",
            "INFO:my_logger:Info message 2\n",
            "WARNING:my_logger:Warning message 2\n",
            "ERROR:my_logger:Error message 2\n",
            "CRITICAL:my_logger:Critical message 2\n",
            "DEBUG:my_logger:Debug message 3\n",
            "INFO:my_logger:Info message 3\n",
            "WARNING:my_logger:Warning message 3\n",
            "ERROR:my_logger:Error message 3\n",
            "CRITICAL:my_logger:Critical message 3\n",
            "DEBUG:my_logger:Debug message 4\n",
            "INFO:my_logger:Info message 4\n",
            "WARNING:my_logger:Warning message 4\n",
            "ERROR:my_logger:Error message 4\n",
            "CRITICAL:my_logger:Critical message 4\n",
            "DEBUG:my_logger:Debug message 5\n",
            "INFO:my_logger:Info message 5\n",
            "WARNING:my_logger:Warning message 5\n",
            "ERROR:my_logger:Error message 5\n",
            "CRITICAL:my_logger:Critical message 5\n",
            "DEBUG:my_logger:Debug message 6\n",
            "INFO:my_logger:Info message 6\n",
            "WARNING:my_logger:Warning message 6\n",
            "ERROR:my_logger:Error message 6\n",
            "CRITICAL:my_logger:Critical message 6\n",
            "DEBUG:my_logger:Debug message 7\n",
            "INFO:my_logger:Info message 7\n",
            "WARNING:my_logger:Warning message 7\n",
            "ERROR:my_logger:Error message 7\n",
            "CRITICAL:my_logger:Critical message 7\n",
            "DEBUG:my_logger:Debug message 8\n",
            "INFO:my_logger:Info message 8\n",
            "WARNING:my_logger:Warning message 8\n",
            "ERROR:my_logger:Error message 8\n",
            "CRITICAL:my_logger:Critical message 8\n",
            "DEBUG:my_logger:Debug message 9\n",
            "INFO:my_logger:Info message 9\n",
            "WARNING:my_logger:Warning message 9\n",
            "ERROR:my_logger:Error message 9\n",
            "CRITICAL:my_logger:Critical message 9\n",
            "DEBUG:my_logger:Debug message 10\n",
            "INFO:my_logger:Info message 10\n",
            "WARNING:my_logger:Warning message 10\n",
            "ERROR:my_logger:Error message 10\n",
            "CRITICAL:my_logger:Critical message 10\n",
            "DEBUG:my_logger:Debug message 11\n",
            "INFO:my_logger:Info message 11\n",
            "WARNING:my_logger:Warning message 11\n",
            "ERROR:my_logger:Error message 11\n",
            "CRITICAL:my_logger:Critical message 11\n",
            "DEBUG:my_logger:Debug message 12\n",
            "INFO:my_logger:Info message 12\n",
            "WARNING:my_logger:Warning message 12\n",
            "ERROR:my_logger:Error message 12\n",
            "CRITICAL:my_logger:Critical message 12\n",
            "DEBUG:my_logger:Debug message 13\n",
            "INFO:my_logger:Info message 13\n",
            "WARNING:my_logger:Warning message 13\n",
            "ERROR:my_logger:Error message 13\n",
            "CRITICAL:my_logger:Critical message 13\n",
            "DEBUG:my_logger:Debug message 14\n",
            "INFO:my_logger:Info message 14\n",
            "WARNING:my_logger:Warning message 14\n",
            "ERROR:my_logger:Error message 14\n",
            "CRITICAL:my_logger:Critical message 14\n",
            "DEBUG:my_logger:Debug message 15\n",
            "INFO:my_logger:Info message 15\n",
            "WARNING:my_logger:Warning message 15\n",
            "ERROR:my_logger:Error message 15\n",
            "CRITICAL:my_logger:Critical message 15\n",
            "DEBUG:my_logger:Debug message 16\n",
            "INFO:my_logger:Info message 16\n",
            "WARNING:my_logger:Warning message 16\n",
            "ERROR:my_logger:Error message 16\n",
            "CRITICAL:my_logger:Critical message 16\n",
            "DEBUG:my_logger:Debug message 17\n",
            "INFO:my_logger:Info message 17\n",
            "WARNING:my_logger:Warning message 17\n",
            "ERROR:my_logger:Error message 17\n",
            "CRITICAL:my_logger:Critical message 17\n",
            "DEBUG:my_logger:Debug message 18\n",
            "INFO:my_logger:Info message 18\n",
            "WARNING:my_logger:Warning message 18\n",
            "ERROR:my_logger:Error message 18\n",
            "CRITICAL:my_logger:Critical message 18\n",
            "DEBUG:my_logger:Debug message 19\n",
            "INFO:my_logger:Info message 19\n",
            "WARNING:my_logger:Warning message 19\n",
            "ERROR:my_logger:Error message 19\n",
            "CRITICAL:my_logger:Critical message 19\n",
            "DEBUG:my_logger:Debug message 20\n",
            "INFO:my_logger:Info message 20\n",
            "WARNING:my_logger:Warning message 20\n",
            "ERROR:my_logger:Error message 20\n",
            "CRITICAL:my_logger:Critical message 20\n",
            "DEBUG:my_logger:Debug message 21\n",
            "INFO:my_logger:Info message 21\n",
            "WARNING:my_logger:Warning message 21\n",
            "ERROR:my_logger:Error message 21\n",
            "CRITICAL:my_logger:Critical message 21\n",
            "DEBUG:my_logger:Debug message 22\n",
            "INFO:my_logger:Info message 22\n",
            "WARNING:my_logger:Warning message 22\n",
            "ERROR:my_logger:Error message 22\n",
            "CRITICAL:my_logger:Critical message 22\n",
            "DEBUG:my_logger:Debug message 23\n",
            "INFO:my_logger:Info message 23\n",
            "WARNING:my_logger:Warning message 23\n",
            "ERROR:my_logger:Error message 23\n",
            "CRITICAL:my_logger:Critical message 23\n",
            "DEBUG:my_logger:Debug message 24\n",
            "INFO:my_logger:Info message 24\n",
            "WARNING:my_logger:Warning message 24\n",
            "ERROR:my_logger:Error message 24\n",
            "CRITICAL:my_logger:Critical message 24\n",
            "DEBUG:my_logger:Debug message 25\n",
            "INFO:my_logger:Info message 25\n",
            "WARNING:my_logger:Warning message 25\n",
            "ERROR:my_logger:Error message 25\n",
            "CRITICAL:my_logger:Critical message 25\n",
            "DEBUG:my_logger:Debug message 26\n",
            "INFO:my_logger:Info message 26\n",
            "WARNING:my_logger:Warning message 26\n",
            "ERROR:my_logger:Error message 26\n",
            "CRITICAL:my_logger:Critical message 26\n",
            "DEBUG:my_logger:Debug message 27\n",
            "INFO:my_logger:Info message 27\n",
            "WARNING:my_logger:Warning message 27\n",
            "ERROR:my_logger:Error message 27\n",
            "CRITICAL:my_logger:Critical message 27\n",
            "DEBUG:my_logger:Debug message 28\n",
            "INFO:my_logger:Info message 28\n",
            "WARNING:my_logger:Warning message 28\n",
            "ERROR:my_logger:Error message 28\n",
            "CRITICAL:my_logger:Critical message 28\n",
            "DEBUG:my_logger:Debug message 29\n",
            "INFO:my_logger:Info message 29\n",
            "WARNING:my_logger:Warning message 29\n",
            "ERROR:my_logger:Error message 29\n",
            "CRITICAL:my_logger:Critical message 29\n",
            "DEBUG:my_logger:Debug message 30\n",
            "INFO:my_logger:Info message 30\n",
            "WARNING:my_logger:Warning message 30\n",
            "ERROR:my_logger:Error message 30\n",
            "CRITICAL:my_logger:Critical message 30\n",
            "DEBUG:my_logger:Debug message 31\n",
            "INFO:my_logger:Info message 31\n",
            "WARNING:my_logger:Warning message 31\n",
            "ERROR:my_logger:Error message 31\n",
            "CRITICAL:my_logger:Critical message 31\n",
            "DEBUG:my_logger:Debug message 32\n",
            "INFO:my_logger:Info message 32\n",
            "WARNING:my_logger:Warning message 32\n",
            "ERROR:my_logger:Error message 32\n",
            "CRITICAL:my_logger:Critical message 32\n",
            "DEBUG:my_logger:Debug message 33\n",
            "INFO:my_logger:Info message 33\n",
            "WARNING:my_logger:Warning message 33\n",
            "ERROR:my_logger:Error message 33\n",
            "CRITICAL:my_logger:Critical message 33\n",
            "DEBUG:my_logger:Debug message 34\n",
            "INFO:my_logger:Info message 34\n",
            "WARNING:my_logger:Warning message 34\n",
            "ERROR:my_logger:Error message 34\n",
            "CRITICAL:my_logger:Critical message 34\n",
            "DEBUG:my_logger:Debug message 35\n",
            "INFO:my_logger:Info message 35\n",
            "WARNING:my_logger:Warning message 35\n",
            "ERROR:my_logger:Error message 35\n",
            "CRITICAL:my_logger:Critical message 35\n",
            "DEBUG:my_logger:Debug message 36\n",
            "INFO:my_logger:Info message 36\n",
            "WARNING:my_logger:Warning message 36\n",
            "ERROR:my_logger:Error message 36\n",
            "CRITICAL:my_logger:Critical message 36\n",
            "DEBUG:my_logger:Debug message 37\n",
            "INFO:my_logger:Info message 37\n",
            "WARNING:my_logger:Warning message 37\n",
            "ERROR:my_logger:Error message 37\n",
            "CRITICAL:my_logger:Critical message 37\n",
            "DEBUG:my_logger:Debug message 38\n",
            "INFO:my_logger:Info message 38\n",
            "WARNING:my_logger:Warning message 38\n",
            "ERROR:my_logger:Error message 38\n",
            "CRITICAL:my_logger:Critical message 38\n",
            "DEBUG:my_logger:Debug message 39\n",
            "INFO:my_logger:Info message 39\n",
            "WARNING:my_logger:Warning message 39\n",
            "ERROR:my_logger:Error message 39\n",
            "CRITICAL:my_logger:Critical message 39\n",
            "DEBUG:my_logger:Debug message 40\n",
            "INFO:my_logger:Info message 40\n",
            "WARNING:my_logger:Warning message 40\n",
            "ERROR:my_logger:Error message 40\n",
            "CRITICAL:my_logger:Critical message 40\n",
            "DEBUG:my_logger:Debug message 41\n",
            "INFO:my_logger:Info message 41\n",
            "WARNING:my_logger:Warning message 41\n",
            "ERROR:my_logger:Error message 41\n",
            "CRITICAL:my_logger:Critical message 41\n",
            "DEBUG:my_logger:Debug message 42\n",
            "INFO:my_logger:Info message 42\n",
            "WARNING:my_logger:Warning message 42\n",
            "ERROR:my_logger:Error message 42\n",
            "CRITICAL:my_logger:Critical message 42\n",
            "DEBUG:my_logger:Debug message 43\n",
            "INFO:my_logger:Info message 43\n",
            "WARNING:my_logger:Warning message 43\n",
            "ERROR:my_logger:Error message 43\n",
            "CRITICAL:my_logger:Critical message 43\n",
            "DEBUG:my_logger:Debug message 44\n",
            "INFO:my_logger:Info message 44\n",
            "WARNING:my_logger:Warning message 44\n",
            "ERROR:my_logger:Error message 44\n",
            "CRITICAL:my_logger:Critical message 44\n",
            "DEBUG:my_logger:Debug message 45\n",
            "INFO:my_logger:Info message 45\n",
            "WARNING:my_logger:Warning message 45\n",
            "ERROR:my_logger:Error message 45\n",
            "CRITICAL:my_logger:Critical message 45\n",
            "DEBUG:my_logger:Debug message 46\n",
            "INFO:my_logger:Info message 46\n",
            "WARNING:my_logger:Warning message 46\n",
            "ERROR:my_logger:Error message 46\n",
            "CRITICAL:my_logger:Critical message 46\n",
            "DEBUG:my_logger:Debug message 47\n",
            "INFO:my_logger:Info message 47\n",
            "WARNING:my_logger:Warning message 47\n",
            "ERROR:my_logger:Error message 47\n",
            "CRITICAL:my_logger:Critical message 47\n",
            "DEBUG:my_logger:Debug message 48\n",
            "INFO:my_logger:Info message 48\n",
            "WARNING:my_logger:Warning message 48\n",
            "ERROR:my_logger:Error message 48\n",
            "CRITICAL:my_logger:Critical message 48\n",
            "DEBUG:my_logger:Debug message 49\n",
            "INFO:my_logger:Info message 49\n",
            "WARNING:my_logger:Warning message 49\n",
            "ERROR:my_logger:Error message 49\n",
            "CRITICAL:my_logger:Critical message 49\n",
            "DEBUG:my_logger:Debug message 50\n",
            "INFO:my_logger:Info message 50\n",
            "WARNING:my_logger:Warning message 50\n",
            "ERROR:my_logger:Error message 50\n",
            "CRITICAL:my_logger:Critical message 50\n",
            "DEBUG:my_logger:Debug message 51\n",
            "INFO:my_logger:Info message 51\n",
            "WARNING:my_logger:Warning message 51\n",
            "ERROR:my_logger:Error message 51\n",
            "CRITICAL:my_logger:Critical message 51\n",
            "DEBUG:my_logger:Debug message 52\n",
            "INFO:my_logger:Info message 52\n",
            "WARNING:my_logger:Warning message 52\n",
            "ERROR:my_logger:Error message 52\n",
            "CRITICAL:my_logger:Critical message 52\n",
            "DEBUG:my_logger:Debug message 53\n",
            "INFO:my_logger:Info message 53\n",
            "WARNING:my_logger:Warning message 53\n",
            "ERROR:my_logger:Error message 53\n",
            "CRITICAL:my_logger:Critical message 53\n",
            "DEBUG:my_logger:Debug message 54\n",
            "INFO:my_logger:Info message 54\n",
            "WARNING:my_logger:Warning message 54\n",
            "ERROR:my_logger:Error message 54\n",
            "CRITICAL:my_logger:Critical message 54\n",
            "DEBUG:my_logger:Debug message 55\n",
            "INFO:my_logger:Info message 55\n",
            "WARNING:my_logger:Warning message 55\n",
            "ERROR:my_logger:Error message 55\n",
            "CRITICAL:my_logger:Critical message 55\n",
            "DEBUG:my_logger:Debug message 56\n",
            "INFO:my_logger:Info message 56\n",
            "WARNING:my_logger:Warning message 56\n",
            "ERROR:my_logger:Error message 56\n",
            "CRITICAL:my_logger:Critical message 56\n",
            "DEBUG:my_logger:Debug message 57\n",
            "INFO:my_logger:Info message 57\n",
            "WARNING:my_logger:Warning message 57\n",
            "ERROR:my_logger:Error message 57\n",
            "CRITICAL:my_logger:Critical message 57\n",
            "DEBUG:my_logger:Debug message 58\n",
            "INFO:my_logger:Info message 58\n",
            "WARNING:my_logger:Warning message 58\n",
            "ERROR:my_logger:Error message 58\n",
            "CRITICAL:my_logger:Critical message 58\n",
            "DEBUG:my_logger:Debug message 59\n",
            "INFO:my_logger:Info message 59\n",
            "WARNING:my_logger:Warning message 59\n",
            "ERROR:my_logger:Error message 59\n",
            "CRITICAL:my_logger:Critical message 59\n",
            "DEBUG:my_logger:Debug message 60\n",
            "INFO:my_logger:Info message 60\n",
            "WARNING:my_logger:Warning message 60\n",
            "ERROR:my_logger:Error message 60\n",
            "CRITICAL:my_logger:Critical message 60\n",
            "DEBUG:my_logger:Debug message 61\n",
            "INFO:my_logger:Info message 61\n",
            "WARNING:my_logger:Warning message 61\n",
            "ERROR:my_logger:Error message 61\n",
            "CRITICAL:my_logger:Critical message 61\n",
            "DEBUG:my_logger:Debug message 62\n",
            "INFO:my_logger:Info message 62\n",
            "WARNING:my_logger:Warning message 62\n",
            "ERROR:my_logger:Error message 62\n",
            "CRITICAL:my_logger:Critical message 62\n",
            "DEBUG:my_logger:Debug message 63\n",
            "INFO:my_logger:Info message 63\n",
            "WARNING:my_logger:Warning message 63\n",
            "ERROR:my_logger:Error message 63\n",
            "CRITICAL:my_logger:Critical message 63\n",
            "DEBUG:my_logger:Debug message 64\n",
            "INFO:my_logger:Info message 64\n",
            "WARNING:my_logger:Warning message 64\n",
            "ERROR:my_logger:Error message 64\n",
            "CRITICAL:my_logger:Critical message 64\n",
            "DEBUG:my_logger:Debug message 65\n",
            "INFO:my_logger:Info message 65\n",
            "WARNING:my_logger:Warning message 65\n",
            "ERROR:my_logger:Error message 65\n",
            "CRITICAL:my_logger:Critical message 65\n",
            "DEBUG:my_logger:Debug message 66\n",
            "INFO:my_logger:Info message 66\n",
            "WARNING:my_logger:Warning message 66\n",
            "ERROR:my_logger:Error message 66\n",
            "CRITICAL:my_logger:Critical message 66\n",
            "DEBUG:my_logger:Debug message 67\n",
            "INFO:my_logger:Info message 67\n",
            "WARNING:my_logger:Warning message 67\n",
            "ERROR:my_logger:Error message 67\n",
            "CRITICAL:my_logger:Critical message 67\n",
            "DEBUG:my_logger:Debug message 68\n",
            "INFO:my_logger:Info message 68\n",
            "WARNING:my_logger:Warning message 68\n",
            "ERROR:my_logger:Error message 68\n",
            "CRITICAL:my_logger:Critical message 68\n",
            "DEBUG:my_logger:Debug message 69\n",
            "INFO:my_logger:Info message 69\n",
            "WARNING:my_logger:Warning message 69\n",
            "ERROR:my_logger:Error message 69\n",
            "CRITICAL:my_logger:Critical message 69\n",
            "DEBUG:my_logger:Debug message 70\n",
            "INFO:my_logger:Info message 70\n",
            "WARNING:my_logger:Warning message 70\n",
            "ERROR:my_logger:Error message 70\n",
            "CRITICAL:my_logger:Critical message 70\n",
            "DEBUG:my_logger:Debug message 71\n",
            "INFO:my_logger:Info message 71\n",
            "WARNING:my_logger:Warning message 71\n",
            "ERROR:my_logger:Error message 71\n",
            "CRITICAL:my_logger:Critical message 71\n",
            "DEBUG:my_logger:Debug message 72\n",
            "INFO:my_logger:Info message 72\n",
            "WARNING:my_logger:Warning message 72\n",
            "ERROR:my_logger:Error message 72\n",
            "CRITICAL:my_logger:Critical message 72\n",
            "DEBUG:my_logger:Debug message 73\n",
            "INFO:my_logger:Info message 73\n",
            "WARNING:my_logger:Warning message 73\n",
            "ERROR:my_logger:Error message 73\n",
            "CRITICAL:my_logger:Critical message 73\n",
            "DEBUG:my_logger:Debug message 74\n",
            "INFO:my_logger:Info message 74\n",
            "WARNING:my_logger:Warning message 74\n",
            "ERROR:my_logger:Error message 74\n",
            "CRITICAL:my_logger:Critical message 74\n",
            "DEBUG:my_logger:Debug message 75\n",
            "INFO:my_logger:Info message 75\n",
            "WARNING:my_logger:Warning message 75\n",
            "ERROR:my_logger:Error message 75\n",
            "CRITICAL:my_logger:Critical message 75\n",
            "DEBUG:my_logger:Debug message 76\n",
            "INFO:my_logger:Info message 76\n",
            "WARNING:my_logger:Warning message 76\n",
            "ERROR:my_logger:Error message 76\n",
            "CRITICAL:my_logger:Critical message 76\n",
            "DEBUG:my_logger:Debug message 77\n",
            "INFO:my_logger:Info message 77\n",
            "WARNING:my_logger:Warning message 77\n",
            "ERROR:my_logger:Error message 77\n",
            "CRITICAL:my_logger:Critical message 77\n",
            "DEBUG:my_logger:Debug message 78\n",
            "INFO:my_logger:Info message 78\n",
            "WARNING:my_logger:Warning message 78\n",
            "ERROR:my_logger:Error message 78\n",
            "CRITICAL:my_logger:Critical message 78\n",
            "DEBUG:my_logger:Debug message 79\n",
            "INFO:my_logger:Info message 79\n",
            "WARNING:my_logger:Warning message 79\n",
            "ERROR:my_logger:Error message 79\n",
            "CRITICAL:my_logger:Critical message 79\n",
            "DEBUG:my_logger:Debug message 80\n",
            "INFO:my_logger:Info message 80\n",
            "WARNING:my_logger:Warning message 80\n",
            "ERROR:my_logger:Error message 80\n",
            "CRITICAL:my_logger:Critical message 80\n",
            "DEBUG:my_logger:Debug message 81\n",
            "INFO:my_logger:Info message 81\n",
            "WARNING:my_logger:Warning message 81\n",
            "ERROR:my_logger:Error message 81\n",
            "CRITICAL:my_logger:Critical message 81\n",
            "DEBUG:my_logger:Debug message 82\n",
            "INFO:my_logger:Info message 82\n",
            "WARNING:my_logger:Warning message 82\n",
            "ERROR:my_logger:Error message 82\n",
            "CRITICAL:my_logger:Critical message 82\n",
            "DEBUG:my_logger:Debug message 83\n",
            "INFO:my_logger:Info message 83\n",
            "WARNING:my_logger:Warning message 83\n",
            "ERROR:my_logger:Error message 83\n",
            "CRITICAL:my_logger:Critical message 83\n",
            "DEBUG:my_logger:Debug message 84\n",
            "INFO:my_logger:Info message 84\n",
            "WARNING:my_logger:Warning message 84\n",
            "ERROR:my_logger:Error message 84\n",
            "CRITICAL:my_logger:Critical message 84\n",
            "DEBUG:my_logger:Debug message 85\n",
            "INFO:my_logger:Info message 85\n",
            "WARNING:my_logger:Warning message 85\n",
            "ERROR:my_logger:Error message 85\n",
            "CRITICAL:my_logger:Critical message 85\n",
            "DEBUG:my_logger:Debug message 86\n",
            "INFO:my_logger:Info message 86\n",
            "WARNING:my_logger:Warning message 86\n",
            "ERROR:my_logger:Error message 86\n",
            "CRITICAL:my_logger:Critical message 86\n",
            "DEBUG:my_logger:Debug message 87\n",
            "INFO:my_logger:Info message 87\n",
            "WARNING:my_logger:Warning message 87\n",
            "ERROR:my_logger:Error message 87\n",
            "CRITICAL:my_logger:Critical message 87\n",
            "DEBUG:my_logger:Debug message 88\n",
            "INFO:my_logger:Info message 88\n",
            "WARNING:my_logger:Warning message 88\n",
            "ERROR:my_logger:Error message 88\n",
            "CRITICAL:my_logger:Critical message 88\n",
            "DEBUG:my_logger:Debug message 89\n",
            "INFO:my_logger:Info message 89\n",
            "WARNING:my_logger:Warning message 89\n",
            "ERROR:my_logger:Error message 89\n",
            "CRITICAL:my_logger:Critical message 89\n",
            "DEBUG:my_logger:Debug message 90\n",
            "INFO:my_logger:Info message 90\n",
            "WARNING:my_logger:Warning message 90\n",
            "ERROR:my_logger:Error message 90\n",
            "CRITICAL:my_logger:Critical message 90\n",
            "DEBUG:my_logger:Debug message 91\n",
            "INFO:my_logger:Info message 91\n",
            "WARNING:my_logger:Warning message 91\n",
            "ERROR:my_logger:Error message 91\n",
            "CRITICAL:my_logger:Critical message 91\n",
            "DEBUG:my_logger:Debug message 92\n",
            "INFO:my_logger:Info message 92\n",
            "WARNING:my_logger:Warning message 92\n",
            "ERROR:my_logger:Error message 92\n",
            "CRITICAL:my_logger:Critical message 92\n",
            "DEBUG:my_logger:Debug message 93\n",
            "INFO:my_logger:Info message 93\n",
            "WARNING:my_logger:Warning message 93\n",
            "ERROR:my_logger:Error message 93\n",
            "CRITICAL:my_logger:Critical message 93\n",
            "DEBUG:my_logger:Debug message 94\n",
            "INFO:my_logger:Info message 94\n",
            "WARNING:my_logger:Warning message 94\n",
            "ERROR:my_logger:Error message 94\n",
            "CRITICAL:my_logger:Critical message 94\n",
            "DEBUG:my_logger:Debug message 95\n",
            "INFO:my_logger:Info message 95\n",
            "WARNING:my_logger:Warning message 95\n",
            "ERROR:my_logger:Error message 95\n",
            "CRITICAL:my_logger:Critical message 95\n",
            "DEBUG:my_logger:Debug message 96\n",
            "INFO:my_logger:Info message 96\n",
            "WARNING:my_logger:Warning message 96\n",
            "ERROR:my_logger:Error message 96\n",
            "CRITICAL:my_logger:Critical message 96\n",
            "DEBUG:my_logger:Debug message 97\n",
            "INFO:my_logger:Info message 97\n",
            "WARNING:my_logger:Warning message 97\n",
            "ERROR:my_logger:Error message 97\n",
            "CRITICAL:my_logger:Critical message 97\n",
            "DEBUG:my_logger:Debug message 98\n",
            "INFO:my_logger:Info message 98\n",
            "WARNING:my_logger:Warning message 98\n",
            "ERROR:my_logger:Error message 98\n",
            "CRITICAL:my_logger:Critical message 98\n",
            "DEBUG:my_logger:Debug message 99\n",
            "INFO:my_logger:Info message 99\n",
            "WARNING:my_logger:Warning message 99\n",
            "ERROR:my_logger:Error message 99\n",
            "CRITICAL:my_logger:Critical message 99\n"
          ]
        },
        {
          "output_type": "stream",
          "name": "stdout",
          "text": [
            "Logging with rotation has been set up.\n"
          ]
        }
      ]
    },
    {
      "cell_type": "code",
      "source": [
        "#19.  Write a program that handles both IndexError and KeyError using a try-except block\n",
        "\n",
        "\n",
        "def access_elements(data_list, data_dict, list_index, dict_key):\n",
        "    try:\n",
        "        list_element = data_list[list_index]\n",
        "        print(f\"Element at index {list_index} in the list: {list_element}\")\n",
        "        dict_value = data_dict[dict_key]\n",
        "        print(f\"Value for key '{dict_key}' in the dictionary: {dict_value}\")\n",
        "    except IndexError:\n",
        "        print(f\"Error: Index {list_index} is out of range in the list.\")\n",
        "    except KeyError:\n",
        "        print(f\"Error: Key '{dict_key}' does not exist in the dictionary.\")\n",
        "\n",
        "my_list = [10, 20, 30, 40, 50]\n",
        "my_dict = {'a': 1, 'b': 2, 'c': 3}\n",
        "\n",
        "access_elements(my_list, my_dict, 2, 'b')\n",
        "access_elements(my_list, my_dict, 10, 'b')\n",
        "access_elements(my_list, my_dict, 2, 'z')\n"
      ],
      "metadata": {
        "colab": {
          "base_uri": "https://localhost:8080/"
        },
        "id": "pHU8-uDaoi2o",
        "outputId": "58b46623-2d4a-4100-c127-5a628be833a7"
      },
      "execution_count": null,
      "outputs": [
        {
          "output_type": "stream",
          "name": "stdout",
          "text": [
            "Element at index 2 in the list: 30\n",
            "Value for key 'b' in the dictionary: 2\n",
            "Error: Index 10 is out of range in the list.\n",
            "Element at index 2 in the list: 30\n",
            "Error: Key 'z' does not exist in the dictionary.\n"
          ]
        }
      ]
    },
    {
      "cell_type": "code",
      "source": [
        "#20. How would you open a file and read its contents using a context manager in Python\n",
        "\n",
        "\n",
        "with open('example_file.txt', 'r') as file:\n",
        "    content = file.read()\n",
        "\n",
        "print(content)\n",
        "\n"
      ],
      "metadata": {
        "id": "NWJD1g8do3Ln"
      },
      "execution_count": null,
      "outputs": []
    },
    {
      "cell_type": "code",
      "source": [
        "#21.   Write a Python program that reads a file and prints the number of occurrences of a specific word\n",
        "\n",
        "\n",
        "\n",
        "words = [\n",
        "    'apple', 'banana', 'cherry', 'date', 'elderberry',\n",
        "    'fig', 'grape', 'honeydew', 'kiwi', 'lemon',\n",
        "    'apple', 'banana', 'cherry', 'date', 'elderberry',\n",
        "    'fig', 'grape', 'honeydew', 'kiwi', 'lemon',\n",
        "    'apple', 'banana', 'cherry', 'date', 'elderberry'\n",
        "]\n",
        "\n",
        "with open('example_file.txt', 'w') as file:\n",
        "    file.write(' '.join(words))\n",
        "\n",
        "print(\"The file 'example_file.txt' has been created with 25 words.\")\n",
        "\n",
        "\n",
        "def count_word_occurrences(file_name, target_word):\n",
        "    with open(file_name, 'r') as file:\n",
        "        content = file.read()\n",
        "    word_count = content.split().count(target_word)\n",
        "    print(f\"The word '{target_word}' occurs {word_count} times in the file '{file_name}'.\")\n",
        "\n",
        "\n",
        "count_word_occurrences('example_file.txt', 'apple')\n"
      ],
      "metadata": {
        "colab": {
          "base_uri": "https://localhost:8080/"
        },
        "id": "Gk7h6PdtpanO",
        "outputId": "ca5b6b64-de18-44e7-decf-76e5825741e8"
      },
      "execution_count": null,
      "outputs": [
        {
          "output_type": "stream",
          "name": "stdout",
          "text": [
            "The file 'example_file.txt' has been created with 25 words.\n",
            "The word 'apple' occurs 3 times in the file 'example_file.txt'.\n"
          ]
        }
      ]
    },
    {
      "cell_type": "code",
      "source": [
        "#22.   How can you check if a file is empty before attempting to read its contents\n",
        "\n",
        "\n",
        "import os\n",
        "with open('examp_file.txt', 'w') as file:\n",
        "    pass\n",
        "\n",
        "file_name = 'examp_file.txt'\n",
        "\n",
        "if os.path.getsize(file_name) == 0:\n",
        "    print(\"The file is empty.\")\n",
        "else:\n",
        "    with open(file_name, 'r') as file:\n",
        "        content = file.read()\n",
        "        print(content)\n"
      ],
      "metadata": {
        "colab": {
          "base_uri": "https://localhost:8080/"
        },
        "id": "dZ2yBsp9qD4f",
        "outputId": "112ace67-40f6-407d-e002-5e3d15619c66"
      },
      "execution_count": null,
      "outputs": [
        {
          "output_type": "stream",
          "name": "stdout",
          "text": [
            "The file is empty.\n"
          ]
        }
      ]
    },
    {
      "cell_type": "code",
      "source": [
        "#23.   Write a Python program that writes to a log file when an error occurs during file handling.\n",
        "\n",
        "import logging\n",
        "\n",
        "\n",
        "logging.basicConfig(filename='file_handling.log', level=logging.ERROR, format='%(asctime)s - %(levelname)s - %(message)s')\n",
        "\n",
        "def read_file(fil_name):\n",
        "    try:\n",
        "        with open(file_name, 'r') as file:\n",
        "            content = file.read()\n",
        "            print(content)\n",
        "    except FileNotFoundError:\n",
        "        logging.error(f\"Error: The file '{file_name}' does not exist.\")\n",
        "    except IOError as e:\n",
        "        logging.error(f\"Error: An I/O error occurred while handling the file '{file_name}': {e}\")\n",
        "\n",
        "\n",
        "read_file('example_file.txt')\n",
        "def print_log_file(file_name):\n",
        "    try:\n",
        "        with open(file_name, 'r') as file:\n",
        "            content = file.read()\n",
        "            print(content)\n",
        "    except FileNotFoundError:\n",
        "        print(\"Error: The log file does not exist.\")\n",
        "    except IOError as e:\n",
        "        print(f\"Error: An I/O error occurred while reading the log file: {e}\")\n",
        "\n",
        "# Example usage\n",
        "print_log_file('file_handling.log')\n",
        "\n"
      ],
      "metadata": {
        "colab": {
          "base_uri": "https://localhost:8080/"
        },
        "id": "rNleT9cuqfmj",
        "outputId": "148feda9-4fae-40a5-fa5c-51ee0b9c4702"
      },
      "execution_count": null,
      "outputs": [
        {
          "output_type": "stream",
          "name": "stdout",
          "text": [
            "\n",
            "Error: The log file does not exist.\n"
          ]
        }
      ]
    }
  ]
}